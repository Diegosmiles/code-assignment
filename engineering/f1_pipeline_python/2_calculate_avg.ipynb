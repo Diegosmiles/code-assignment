{
 "cells": [
  {
   "cell_type": "markdown",
   "id": "ffa68f6e-a5f5-4ffb-b562-b06565434c60",
   "metadata": {},
   "source": [
    "For this step, using the file 'src_file/f1_lap_times_cleaned.csv' I am going to:\n",
    "\n",
    "1.  calculate the average lap time for each driver, and sort them in ascending order.\n",
    "\n",
    "2. Finally, an output with the top 3 drivers by average lap time should be generated. For each driver, include the fastest and average lap times. You are free to choose the format of the output"
   ]
  },
  {
   "cell_type": "code",
   "execution_count": 2,
   "id": "93dc0c97-c6b7-4b8a-89f7-9bd585176464",
   "metadata": {},
   "outputs": [],
   "source": [
    "import pandas as pd"
   ]
  },
  {
   "cell_type": "code",
   "execution_count": 4,
   "id": "b96653f4-1327-43ea-a0db-9a793b445046",
   "metadata": {},
   "outputs": [
    {
     "name": "stdout",
     "output_type": "stream",
     "text": [
      "        Driver  avg_lap_time  fastest_lap_time\n",
      "7         Hunt      3.120000              2.27\n",
      "0       Alonso      3.546667              3.10\n",
      "2        Clark      3.710000              2.42\n",
      "8        Lauda      3.800000              2.52\n",
      "11   Raikkönen      4.356667              3.34\n",
      "3       Fangio      4.498571              2.38\n",
      "10       Prost      4.605000              2.66\n",
      "6     Hamilton      4.613333              4.00\n",
      "5     Hakkinen      4.648000              2.29\n",
      "13  Schumacher      4.657500              2.76\n",
      "12     Rosberg      4.695556              2.05\n",
      "4   Fittipaldi      4.723333              3.84\n",
      "14     Stewart      4.922500              2.01\n",
      "9       Piquet      5.106667              2.21\n",
      "1      Brabham      5.112500              4.64\n",
      "15      Vettel      5.333333              2.92\n"
     ]
    }
   ],
   "source": [
    "#Read the CSV file\n",
    "df = pd.read_csv(\"src_files/f1_lap_times_cleaned.csv\")\n",
    "\n",
    "#Calculate average lap time and fastest lap time for each driver\n",
    "result = df.groupby('Driver').agg(\n",
    "    avg_lap_time=('Time', 'mean'),\n",
    "    fastest_lap_time=('Time', 'min')\n",
    ").reset_index()\n",
    "\n",
    "#Average time for each driver, sorted in ascending order:\n",
    "avg_times = result.sort_values(by='avg_lap_time')\n",
    "\n",
    "print(avg_times)"
   ]
  },
  {
   "cell_type": "code",
   "execution_count": 5,
   "id": "14729944-fe0c-4f5c-ad2a-2941cf46ae7a",
   "metadata": {},
   "outputs": [
    {
     "name": "stdout",
     "output_type": "stream",
     "text": [
      "   Driver  avg_lap_time  fastest_lap_time\n",
      "7    Hunt      3.120000              2.27\n",
      "0  Alonso      3.546667              3.10\n",
      "2   Clark      3.710000              2.42\n"
     ]
    }
   ],
   "source": [
    "#Sort by average lap time (ascending order) and get top 3 drivers\n",
    "top_3_drivers = avg_times.head(3)\n",
    "\n",
    "# Step 4: Output the result (e.g., to CSV or JSON)\n",
    "top_3_drivers.to_csv('top_3_drivers.csv', index=False)\n",
    "\n",
    "print(top_3_drivers)"
   ]
  }
 ],
 "metadata": {
  "kernelspec": {
   "display_name": "Python 3 (ipykernel)",
   "language": "python",
   "name": "python3"
  },
  "language_info": {
   "codemirror_mode": {
    "name": "ipython",
    "version": 3
   },
   "file_extension": ".py",
   "mimetype": "text/x-python",
   "name": "python",
   "nbconvert_exporter": "python",
   "pygments_lexer": "ipython3",
   "version": "3.13.2"
  }
 },
 "nbformat": 4,
 "nbformat_minor": 5
}
