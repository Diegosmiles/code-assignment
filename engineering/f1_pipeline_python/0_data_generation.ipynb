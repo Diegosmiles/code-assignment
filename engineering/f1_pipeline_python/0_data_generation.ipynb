{
 "cells": [
  {
   "cell_type": "code",
   "execution_count": 1,
   "id": "684beb66-fb98-48c4-aaf2-94a23407abc7",
   "metadata": {},
   "outputs": [],
   "source": [
    "import pandas as pd\n",
    "import random"
   ]
  },
  {
   "cell_type": "code",
   "execution_count": 4,
   "id": "65b765fc-de41-4b8c-abdd-8a779bef7b97",
   "metadata": {},
   "outputs": [],
   "source": [
    "def add_edge_case(driver, lap_time, last_valid_lap_time=None):\n",
    "    \"\"\"\n",
    "    Introduces edge cases with a 5% chance.\n",
    "    - 'empty' for missing values (None)\n",
    "    - 'outlier' for extreme values\n",
    "    - 'string' for invalid non-numeric values\n",
    "    - 'duplicate' to simulate duplication of last valid lap time\n",
    "    - 'driver_number' to simulate a numeric driver name\n",
    "    - 'null_driver' to simulate a null (None) driver name\n",
    "    \"\"\"\n",
    "    \n",
    "    if random.random() < 0.05:  # 5% chance of adding an edge case\n",
    "        case_type = random.choice(['empty', 'outlier', 'string', 'duplicate', 'driver_number', 'null_driver'])\n",
    "        \n",
    "        if case_type == 'empty':\n",
    "            lap_time = None  # Empty value (missing data)\n",
    "        \n",
    "        elif case_type == 'outlier':\n",
    "            lap_time = random.choice([100.0, 150.0, 200.0, 0.0, 0.01])  # Extreme outliers\n",
    "        \n",
    "        elif case_type == 'string':\n",
    "            lap_time = random.choice(['N/A', 'Invalid', 'Error'])  # Non-numeric value\n",
    "        \n",
    "        elif case_type == 'duplicate' and last_valid_lap_time is not None:\n",
    "            lap_time = last_valid_lap_time  # Repeat the last valid lap time\n",
    "        \n",
    "        elif case_type == 'driver_number':\n",
    "            driver = random.randint(1, 100)  # Simulate a numeric driver (random number between 1 and 100)\n",
    "        \n",
    "        elif case_type == 'null_driver':\n",
    "            driver = None  # Null (missing) driver name\n",
    "\n",
    "    return [driver, lap_time]"
   ]
  },
  {
   "cell_type": "code",
   "execution_count": 5,
   "id": "2761dd9f-117c-477f-be33-c4f659201aa0",
   "metadata": {},
   "outputs": [
    {
     "name": "stdout",
     "output_type": "stream",
     "text": [
      "   Driver  Time\n",
      "0  Fangio  4.27\n",
      "1  Fangio  3.13\n",
      "2  Fangio  2.26\n",
      "3  Fangio  2.02\n",
      "4  Fangio  5.76\n"
     ]
    }
   ],
   "source": [
    "# List of drivers\n",
    "\n",
    "drivers = [\n",
    "    \"Fangio\", \"Prost\", \"Senna\", \"Piquet\", \"Lauda\", \n",
    "    \"Clark\", \"Stewart\", \"Hill\", \"Fittipaldi\", \"Brabham\",\n",
    "    \"Moss\", \"Hakkinen\", \"Rosberg\", \"Hunt\", \"Schumacher\", \n",
    "    \"Vettel\", \"Hamilton\", \"Alonso\", \"Raikkönen\", \"Piquet\"]\n",
    "\n",
    "data = []\n",
    "\n",
    "\n",
    "# Generate 7 lap times for each driver\n",
    "for driver in drivers:\n",
    "    for _ in range(18):  # 18 lap times per driver\n",
    "        lap_time = round(random.uniform(2.0, 7.0), 2)  # Generate random lap time between 2.0 and 7.0\n",
    "        data.append(add_edge_case(driver, lap_time))\n",
    "\n",
    "# Convert the list of data into a DataFrame\n",
    "df = pd.DataFrame(data, columns=['Driver', 'Time'])\n",
    "\n",
    "# Introduce some deliberate duplicates\n",
    "df = pd.concat([df, df.sample(5)], ignore_index=True)  # Adding 5 random duplicate rows\n",
    "\n",
    "# Save the DataFrame to a CSV file\n",
    "df.to_csv('src_files/f1_lap_times_with_edge_cases.csv', index=False)\n",
    "\n",
    "# Display the first few rows of the dataframe\n",
    "print(df.head())\n"
   ]
  }
 ],
 "metadata": {
  "kernelspec": {
   "display_name": "Python 3 (ipykernel)",
   "language": "python",
   "name": "python3"
  },
  "language_info": {
   "codemirror_mode": {
    "name": "ipython",
    "version": 3
   },
   "file_extension": ".py",
   "mimetype": "text/x-python",
   "name": "python",
   "nbconvert_exporter": "python",
   "pygments_lexer": "ipython3",
   "version": "3.13.2"
  }
 },
 "nbformat": 4,
 "nbformat_minor": 5
}
